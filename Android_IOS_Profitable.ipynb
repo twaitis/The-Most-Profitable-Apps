{
 "cells": [
  {
   "cell_type": "markdown",
   "metadata": {},
   "source": [
    "# Most Popular Apps for the App Store and Google PLay Market \n",
    "\n",
    "In this project is to find the most popular, profitable, and free apps for the App Store and Google Play Market.\n",
    "Since these apps are free to install and download, their revenue depends on the number of ads. The goal of this project is to help developers understand what type of apps are more profitable for the market and attract more users. The higher number of users means higher revenue. These apps are Android and iOS mobile apps. \n",
    "\n",
    "## Opening the Collected Data\n",
    "As of September 2018, there were approximately 2 million iOS apps available on the App Store, and 2.1 million Android apps on Google Play.\n",
    "\n",
    "Collecting data for over four million apps requires a significant amount of time and money. Luckily, I found two data sets that seem suitable for the purpose:\n",
    "- [GooglePlayData](https://www.kaggle.com/lava18/google-play-store-apps): This data set is containing information about almost 10,000 Android app from Google Play. The data was collected in Ausgust 2018. To download this data, click [here](https://dq-content.s3.amazonaws.com/350/googleplaystore.csv).\n",
    "- [AppleStoreData](https://www.kaggle.com/ramamet4/app-store-apple-data-set-10k-apps): This data set is containing information about more than 7,000 IOS apps from App Store. It was collected in July 2017. You can click [here](https://dq-content.s3.amazonaws.com/350/AppleStore.csv) to download the data set. \n",
    "\n",
    "\n",
    "### Lets open the data sets "
   ]
  },
  {
   "cell_type": "code",
   "execution_count": 2,
   "metadata": {},
   "outputs": [],
   "source": [
    "from csv import reader\n",
    "\n",
    "# open the Google PLay Store \"Android\" apps dataset\n",
    "open_file = open('googleplaystore.csv')\n",
    "read_file = reader(open_file)\n",
    "androids_data = list(read_file)\n",
    "a_header = androids_data[0]\n",
    "android = androids_data[1:]\n",
    "\n",
    "# open the Apple Store \"ios\" apps dataset\n",
    "open_file = open('AppleStore.csv')\n",
    "read_file = reader(open_file)\n",
    "ios_data = list(read_file)\n",
    "ios_header = ios_data[0]\n",
    "ios = ios_data[1:]"
   ]
  },
  {
   "cell_type": "markdown",
   "metadata": {},
   "source": [
    "Now lets explore the data. We are going to use a function called explore_data(). This function will allow us to explore rows is a better readable way. We are going to use this function repeatedly. Also, there will be an option for the explore_Data() function to show the number of rows and columns of any data set"
   ]
  },
  {
   "cell_type": "code",
   "execution_count": 3,
   "metadata": {},
   "outputs": [],
   "source": [
    "# explore function to make our data readable or easier to understand \n",
    "\n",
    "def explore_data(dataset, start, end, rows_and_columns=False):\n",
    "    dataset_slice = dataset[start:end]    \n",
    "    for row in dataset_slice:\n",
    "        print(row)\n",
    "        print('\\n') # adds a new (empty) line after each row\n",
    "\n",
    "    if rows_and_columns:\n",
    "        print('Number of rows:', len(dataset))\n",
    "        print('Number of columns:', len(dataset[0]))"
   ]
  },
  {
   "cell_type": "markdown",
   "metadata": {},
   "source": [
    "### Now lets explore the Android data set:"
   ]
  },
  {
   "cell_type": "code",
   "execution_count": 4,
   "metadata": {},
   "outputs": [
    {
     "name": "stdout",
     "output_type": "stream",
     "text": [
      "['App', 'Category', 'Rating', 'Reviews', 'Size', 'Installs', 'Type', 'Price', 'Content Rating', 'Genres', 'Last Updated', 'Current Ver', 'Android Ver', '']\n",
      "\n",
      "\n",
      "['Coloring book moana', 'ART_AND_DESIGN', '3.9', '967', '14M', '500,000+', 'Free', '0', 'Everyone', 'Art & Design', 'Pretend Play', 'January 15, 2018', '2.0.0', '4.0.3 and up']\n",
      "\n",
      "\n",
      "['U Launcher Lite – FREE Live Cool Themes, Hide Apps', 'ART_AND_DESIGN', '4.7', '87510', '8.7M', '5,000,000+', 'Free', '0', 'Everyone', 'Art & Design', 'August 1, 2018', '1.2.4', '4.0.3 and up', '']\n",
      "\n",
      "\n",
      "['Sketch - Draw & Paint', 'ART_AND_DESIGN', '4.5', '215644', '25M', '50,000,000+', 'Free', '0', 'Teen', 'Art & Design', 'June 8, 2018', 'Varies with device', '4.2 and up', '']\n",
      "\n",
      "\n",
      "Number of rows: 10841\n",
      "Number of columns: 14\n"
     ]
    }
   ],
   "source": [
    "print(a_header) #printing the first row of the dataset, which is the header. It has the names of columns\n",
    "print(\"\\n\")    # adds a line between rows \n",
    "explore_data(android, 1, 4, True)"
   ]
  },
  {
   "cell_type": "markdown",
   "metadata": {},
   "source": [
    "We can see that the Android data set has 10841 apps and 14 columns. \n",
    "\n",
    "The columns that can help us for the purpose of our analysis are: 'App', 'Category', 'Reviews', 'Installs', 'Type', 'Price', and 'Genres'.\n",
    "\n",
    "### Now lets explore the IOS data set "
   ]
  },
  {
   "cell_type": "code",
   "execution_count": 5,
   "metadata": {},
   "outputs": [
    {
     "name": "stdout",
     "output_type": "stream",
     "text": [
      "['id', 'track_name', 'size_bytes', 'currency', 'price', 'rating_count_tot', 'rating_count_ver', 'user_rating', 'user_rating_ver', 'ver', 'cont_rating', 'prime_genre', 'sup_devices.num', 'ipadSc_urls.num', 'lang.num', 'vpp_lic', '']\n",
      "\n",
      "\n",
      "['389801252', 'Instagram', '113954816', 'USD', '0', '2161558', '1289', '4.5', '4', '10.23', '12+', 'Photo & Video', '37', '0', '29', '1', '']\n",
      "\n",
      "\n",
      "['529479190', 'Clash of Clans', '116476928', 'USD', '0', '2130805', '579', '4.5', '4.5', '9.24.12', '9+', 'Games', '38', '5', '18', '1', '']\n",
      "\n",
      "\n",
      "['420009108', 'Temple Run', '65921024', 'USD', '0', '1724546', '3842', '4.5', '4', '1.6.2', '9+', 'Games', '40', '5', '1', '1', '']\n",
      "\n",
      "\n",
      "Number of rows: 7197\n",
      "Number of columns: 17\n"
     ]
    }
   ],
   "source": [
    "print (ios_header)\n",
    "print (\"\\n\")\n",
    "explore_data(ios, 1, 4, True)"
   ]
  },
  {
   "cell_type": "markdown",
   "metadata": {},
   "source": [
    "The IOS data set has 7197 apps and 17 columns. \n",
    "\n",
    "The columns that can help us for the purpose of our analysis are: 'track_name', 'currency', 'price', 'rating_count_tot', 'rating_count_ver', and 'prime_genre'.\n",
    "\n",
    "## Data Cleaning \n",
    "\n",
    "For this projcet we need to do the following to clean our data:\n",
    "  - Find inaccurate data, and correct or remove it.\n",
    "  - Find duplicate data, and remove the duplicates. \n",
    "  - Remove non-English apps.\n",
    "  - Isolating the free apps\n",
    "\n",
    "### Deleting Inaccurate Data\n",
    "\n",
    "The Google PLay data has a [discussion section](https://www.kaggle.com/lava18/google-play-store-apps/discussion). According to [this](https://www.kaggle.com/lava18/google-play-store-apps/discussion/66015) section of the discussion, there is an error in row 10472. To check this error, we will print this row, compare it to the header and another accurate row. "
   ]
  },
  {
   "cell_type": "code",
   "execution_count": 6,
   "metadata": {},
   "outputs": [
    {
     "name": "stdout",
     "output_type": "stream",
     "text": [
      "['Life Made WI-Fi Touchscreen Photo Frame', '1.9', '19', '3.0M', '1,000+', 'Free', '0', 'Everyone', '', 'February 11, 2018', '1.0.19', '4.0 and up', '', '']\n",
      "\n",
      "\n",
      "['App', 'Category', 'Rating', 'Reviews', 'Size', 'Installs', 'Type', 'Price', 'Content Rating', 'Genres', 'Last Updated', 'Current Ver', 'Android Ver', '']\n",
      "\n",
      "\n",
      "['Coloring book moana', 'ART_AND_DESIGN', '3.9', '967', '14M', '500,000+', 'Free', '0', 'Everyone', 'Art & Design', 'Pretend Play', 'January 15, 2018', '2.0.0', '4.0.3 and up']\n"
     ]
    }
   ],
   "source": [
    "print (android[10472])   \n",
    "print ('\\n')\n",
    "print (a_header)\n",
    "print ('\\n')\n",
    "print (android[1]) # an accurate row"
   ]
  },
  {
   "cell_type": "markdown",
   "metadata": {},
   "source": [
    "The row 10472 is for an app called 'Life Made WI-Fi Touchscreen Photo Frame'. The review and rating data in this row are not in order. Also, the number of reviews should be an integer. Therefore, we are going to delete this row"
   ]
  },
  {
   "cell_type": "code",
   "execution_count": 7,
   "metadata": {},
   "outputs": [
    {
     "name": "stdout",
     "output_type": "stream",
     "text": [
      "10841\n",
      "10840\n"
     ]
    }
   ],
   "source": [
    "print (len(android))\n",
    "del (android[10472]) # Don't run this cell more than one time, because more rows will be deleted\n",
    "print (len(android)) "
   ]
  },
  {
   "cell_type": "markdown",
   "metadata": {},
   "source": [
    "Now we have 10840 apps for Google PLay, because we have deleted one app.\n",
    "According to the App Store data [discussion](https://www.kaggle.com/ramamet4/app-store-apple-data-set-10k-apps/discussion), we don't have inaccurate data for IOS apps. \n",
    "We can move to the second step of the Data Cleaning, which is \"removing duplicate data\". \n",
    "\n",
    "### Find Duplicate Data\n",
    "\n",
    "By exploring the Google PLay data set and looking carefully to the names of the apps, you will notice that some apps have duplicate data. For example, Facebook has two entries"
   ]
  },
  {
   "cell_type": "code",
   "execution_count": 8,
   "metadata": {},
   "outputs": [
    {
     "name": "stdout",
     "output_type": "stream",
     "text": [
      "['Facebook', 'SOCIAL', '4.1', '78158306', 'Varies with device', '1,000,000,000+', 'Free', '0', 'Teen', 'Social', 'August 3, 2018', 'Varies with device', 'Varies with device', '']\n",
      "['Facebook', 'SOCIAL', '4.1', '78128208', 'Varies with device', '1,000,000,000+', 'Free', '0', 'Teen', 'Social', 'August 3, 2018', 'Varies with device', 'Varies with device', '']\n"
     ]
    }
   ],
   "source": [
    "for app in android:\n",
    "    name = app[0]\n",
    "    if name == 'Facebook':\n",
    "        print(app)"
   ]
  },
  {
   "cell_type": "markdown",
   "metadata": {},
   "source": [
    "if you examine the rows that we printed for the Facebook app, you will notice that the main difference is on the fourth position of each row. This position represents the number of reviews. Different number of reviews means that the data was collected different times.\n",
    "We should always keep the data was the highest number of reviews. The highes number of reviews indicates that the data is the most recent data. \n",
    "\n",
    "Before we delete any apps. We need to write some codes that give us information about duplicates data. We are dealing with a large number of apps. It is not easy to find all the duplicates data by looking at the full data sets. The following code will print the number of duplicate apps, and name of some duplicate apps to give some examples. "
   ]
  },
  {
   "cell_type": "code",
   "execution_count": 9,
   "metadata": {},
   "outputs": [
    {
     "name": "stdout",
     "output_type": "stream",
     "text": [
      "There are 1181 duplicate apps.\n",
      "\n",
      "\n",
      "Examples of duplicated apps:  ['Quick PDF Scanner + OCR FREE', 'Box', 'Google My Business', 'ZOOM Cloud Meetings', 'join.me - Simple Meetings', 'Box', 'Zenefits', 'Google Ads', 'Google My Business', 'Slack', 'FreshBooks Classic', 'Insightly CRM', 'QuickBooks Accounting: Invoicing & Expenses', 'HipChat - Chat Built for Teams', 'Xero Accounting Software', 'MailChimp - Email, Marketing Automation', 'Crew - Free Messaging and Scheduling', 'Asana: organize team projects', 'Google Analytics', 'AdWords Express']\n",
      "\n",
      "\n",
      "The expected number of apps after deleting the duplicated once: 9659\n"
     ]
    }
   ],
   "source": [
    "duplicate_apps = []\n",
    "unique_apps = []\n",
    "for apps in android:\n",
    "    name = apps[0]\n",
    "    if name in unique_apps:\n",
    "        duplicate_apps.append(name)\n",
    "    else:\n",
    "        unique_apps.append(name)\n",
    "print ('There are '+str(len(duplicate_apps))+' duplicate apps.')\n",
    "print('\\n')\n",
    "print ('Examples of duplicated apps: ',duplicate_apps[:20])\n",
    "print ('\\n')\n",
    "print ('The expected number of apps after deleting the duplicated once: ' + str(len(android)-len(duplicate_apps)))"
   ]
  },
  {
   "cell_type": "markdown",
   "metadata": {},
   "source": [
    "There are 1181 duplicate apps in the Google Play data set.\n",
    "\n",
    "Lets check the App Store data set to see if there is any duplicates."
   ]
  },
  {
   "cell_type": "code",
   "execution_count": 10,
   "metadata": {},
   "outputs": [
    {
     "name": "stdout",
     "output_type": "stream",
     "text": [
      "There are 0 duplicate apps.\n"
     ]
    }
   ],
   "source": [
    "duplicate_apps = []\n",
    "unique_apps = []\n",
    "for apps in ios:\n",
    "    name = apps[0]\n",
    "    if name in unique_apps:\n",
    "        duplicate_apps.append(name)\n",
    "    else:\n",
    "        unique_apps.append(name)\n",
    "print ('There are '+str(len(duplicate_apps))+' duplicate apps.')"
   ]
  },
  {
   "cell_type": "markdown",
   "metadata": {},
   "source": [
    "There is no duplicated data on the App Store data set. \n",
    "\n",
    "\n",
    "### Removing Duplicate Data\n",
    "\n",
    "Now, its time to deleted duplicated data from the Google PLay data set.\n",
    "\n",
    "To delete the duplicated apps, we should do the following:\n",
    "- Create a dictionary, where each dictionary key is a unique app name and its value \n",
    "  will be the highest number of reviews for that app.\n",
    "- Use the information stored in the dictionary and create a new data set, which will \n",
    "  have only one entry per app. For each app, we will only select the entry with the \n",
    "  highest number of reviews."
   ]
  },
  {
   "cell_type": "code",
   "execution_count": 11,
   "metadata": {},
   "outputs": [
    {
     "name": "stdout",
     "output_type": "stream",
     "text": [
      "9659\n"
     ]
    }
   ],
   "source": [
    "reviews_max = {}\n",
    "for app in android:\n",
    "    name = app[0]\n",
    "    n_reviews = float(app[3])\n",
    "    if name in reviews_max and reviews_max[name] < n_reviews:\n",
    "        reviews_max[name] = n_reviews\n",
    "    elif name not in reviews_max:\n",
    "        reviews_max[name] = n_reviews\n",
    "print(len(reviews_max))"
   ]
  },
  {
   "cell_type": "markdown",
   "metadata": {},
   "source": [
    "\n",
    "The next step is using the review_max dictionary to remove any duplicate apps. For the duplicate apps, we will keep only the app with the highest reviews.\n",
    "\n",
    "To do so, we will:\n",
    "- Start by creating two empty lists: \n",
    "  - android_clean, which will store our new cleaned data set.\n",
    "  - already_added, which will just store app names.\n",
    "- Loop through the Google Play data set, and for each iteration:\n",
    "\n",
    "    - Assign the app name to a variable named name.\n",
    "    - Assign the number of review to a variable named n_reviews.\n",
    "- If n_reviews is the same as the number of maximum reviews of the app name (the number can be found in the   \n",
    "  reviews_max dictionary) and name is not already in the list already_added:\n",
    "  - Append the entire row to the android_clean list.\n",
    "  - Append the name of the app name to the already_added list — this helps us to keep track of apps that we   \n",
    "    already added."
   ]
  },
  {
   "cell_type": "code",
   "execution_count": 12,
   "metadata": {},
   "outputs": [],
   "source": [
    "android_clean = []\n",
    "already_added = []\n",
    "for app in android:\n",
    "    name = app[0]\n",
    "    n_reviews = float(app[3])\n",
    "    if n_reviews == reviews_max[name] and name not in already_added:\n",
    "        android_clean.append(app)\n",
    "        already_added.append(name)"
   ]
  },
  {
   "cell_type": "markdown",
   "metadata": {},
   "source": [
    "Now lets use the explore_data() function to make sure than everything went well"
   ]
  },
  {
   "cell_type": "code",
   "execution_count": 13,
   "metadata": {},
   "outputs": [
    {
     "name": "stdout",
     "output_type": "stream",
     "text": [
      "['Paper flowers instructions', 'ART_AND_DESIGN', '4.4', '167', '5.6M', '50,000+', 'Free', '0', 'Everyone', 'Art & Design', 'March 26, 2017', '1', '2.3 and up', '']\n",
      "\n",
      "\n",
      "['Smoke Effect Photo Maker - Smoke Editor', 'ART_AND_DESIGN', '3.8', '178', '19M', '50,000+', 'Free', '0', 'Everyone', 'Art & Design', 'April 26, 2018', '1.1', '4.0.3 and up', '']\n",
      "\n",
      "\n",
      "['Infinite Painter', 'ART_AND_DESIGN', '4.1', '36815', '29M', '1,000,000+', 'Free', '0', 'Everyone', 'Art & Design', 'June 14, 2018', '6.1.61.1', '4.2 and up', '']\n",
      "\n",
      "\n",
      "Number of rows: 9659\n",
      "Number of columns: 14\n"
     ]
    }
   ],
   "source": [
    "explore_data(android_clean, 4, 7, True)"
   ]
  },
  {
   "cell_type": "markdown",
   "metadata": {},
   "source": [
    "After deleting the duplicated apps, we have 9659 apps. \n",
    "\n",
    "The next step of this project is removing apps that are not for English speakers."
   ]
  },
  {
   "cell_type": "markdown",
   "metadata": {},
   "source": [
    "### Deleting Non-English Apps\n",
    "\n",
    "When we explore the data sets, we can see that there are apps that are not for English speakers. We do not want these apps. We are interested only in English apps.\n",
    "\n",
    "Both of the Android and IOS apps data sets have non-English apps. Let's look at some examples of these apps:"
   ]
  },
  {
   "cell_type": "code",
   "execution_count": 14,
   "metadata": {},
   "outputs": [
    {
     "name": "stdout",
     "output_type": "stream",
     "text": [
      "中国語 AQリスニング\n",
      "لعبة تقدر تربح DZ\n",
      "\n",
      "\n",
      "爱奇艺PPS -《欢乐颂2》电视剧热播\n",
      "【脱出ゲーム】絶対に最後までプレイしないで 〜謎解き＆ブロックパズル〜\n"
     ]
    }
   ],
   "source": [
    "print(android_clean[4412][0])\n",
    "print(android_clean[7940][0]) # Example of non-English android apps\n",
    "print('\\n')\n",
    "print(ios[813][1]) #example of non-English IOS apps\n",
    "print(ios[6731][1])\n"
   ]
  },
  {
   "cell_type": "markdown",
   "metadata": {},
   "source": [
    "English text usually includes letters from the English alphabet, numbers composed of digits from 0 to 9, punctuation marks (., !, ?, ;), and other symbols (+, *, /).\n",
    "Each character we use in a string has a corresponding number associated with it. \n",
    "We can get the corresponding number of each character using the [built in function](https://docs.python.org/3/library/functions.html#ord) ord(). "
   ]
  },
  {
   "cell_type": "code",
   "execution_count": 15,
   "metadata": {},
   "outputs": [
    {
     "name": "stdout",
     "output_type": "stream",
     "text": [
      "103\n",
      "61\n",
      "116\n",
      "33\n"
     ]
    }
   ],
   "source": [
    "print(ord('g'))\n",
    "print(ord('='))\n",
    "print(ord('t'))\n",
    "print(ord('!'))"
   ]
  },
  {
   "cell_type": "markdown",
   "metadata": {},
   "source": [
    "According to the [ASCII](https://en.wikipedia.org/wiki/ASCII) (American Standard Code for Information Interchange) system, The numbers corresponding to the characters we commonly use in an English text are all in the range 0 to 127.\n",
    "We can build a function that detects whether a character belongs to the set of common English characters or not. If the number is equal to or less than 127, then the character belongs to the set of common English characters. If an app name contains a character that is greater than 127, then it probably means that the app has a non-English name.\n",
    "Lets detect app names that have non-English characters, so we can remove these apps later."
   ]
  },
  {
   "cell_type": "code",
   "execution_count": 16,
   "metadata": {},
   "outputs": [
    {
     "name": "stdout",
     "output_type": "stream",
     "text": [
      "True\n",
      "False\n",
      "False\n",
      "True\n",
      "True\n"
     ]
    }
   ],
   "source": [
    "def English(String):\n",
    "    for char in String:\n",
    "        if ord(char) > 127:\n",
    "            return False\n",
    "        return True\n",
    "print(English('Facebook')) #should return True\n",
    "print(English('لعبة تقدر تربح DZ')) #should return False\n",
    "print(English('爱奇艺PPS -《欢乐颂2》电视剧热播'))\n",
    "print(English('Docs To Go™ Free Office Suite'))\n",
    "print(English('Instachat 😜'))"
   ]
  },
  {
   "cell_type": "markdown",
   "metadata": {},
   "source": [
    "The previous funtion works well, but there is a problem. \n",
    "The problem is that the function couldn't correctly identify certain English app names like 'Docs To Go™ Free Office Suite' and 'Instachat 😜'. Because emojis and characters like '™' do not fall inside the ASCII range and have corresponding number greater than 127."
   ]
  },
  {
   "cell_type": "code",
   "execution_count": 17,
   "metadata": {},
   "outputs": [
    {
     "name": "stdout",
     "output_type": "stream",
     "text": [
      "128540\n",
      "8482\n"
     ]
    }
   ],
   "source": [
    "print(ord('😜'))\n",
    "print(ord('™'))"
   ]
  },
  {
   "cell_type": "markdown",
   "metadata": {},
   "source": [
    "If we're going to use the function we've created, we'll lose useful data since many English apps will be incorrectly labeled as non-English. To minimize the impact of data loss, we'll only remove an app if its name has more than three characters with corresponding numbers falling outside the ASCII range.\n",
    "\n",
    "This means all English apps with up to three emoji or other special characters will still be labeled as English. Our filter function is still not perfect, but it should be fairly effective.\n",
    "\n",
    "Let's edit the function we created in the previous screen, and then use it to filter out the non-English apps."
   ]
  },
  {
   "cell_type": "code",
   "execution_count": 18,
   "metadata": {},
   "outputs": [
    {
     "name": "stdout",
     "output_type": "stream",
     "text": [
      "True\n",
      "True\n",
      "False\n"
     ]
    }
   ],
   "source": [
    "def English(String):\n",
    "    not_ASCII = 0\n",
    "    for char in String:\n",
    "        if ord(char) > 127:\n",
    "            not_ASCII += 1\n",
    "    if not_ASCII > 3:\n",
    "        return False\n",
    "    else:\n",
    "        return True\n",
    "    \n",
    "print(English('Docs To Go™ Free Office Suite'))\n",
    "print(English('Instachat 😜'))\n",
    "print(English('爱奇艺PPS -《欢乐颂2》电视剧热播'))"
   ]
  },
  {
   "cell_type": "markdown",
   "metadata": {},
   "source": [
    "Now, we are going to use the new English() function to filter out non-English apps from both data sets.\n",
    "\n",
    "We are goint to loop through each data set. If an app name is identified as English, append the whole row to a separate list.\n",
    "\n",
    "Remember, we going to loop through the android_clean data set, not android data set. Because android_clean does not have duplicated apps. The IOS data set still accurate, because we did not find any duplicate data in that data set. "
   ]
  },
  {
   "cell_type": "code",
   "execution_count": 19,
   "metadata": {},
   "outputs": [
    {
     "name": "stdout",
     "output_type": "stream",
     "text": [
      "['U Launcher Lite – FREE Live Cool Themes, Hide Apps', 'ART_AND_DESIGN', '4.7', '87510', '8.7M', '5,000,000+', 'Free', '0', 'Everyone', 'Art & Design', 'August 1, 2018', '1.2.4', '4.0.3 and up', '']\n",
      "\n",
      "\n",
      "['Sketch - Draw & Paint', 'ART_AND_DESIGN', '4.5', '215644', '25M', '50,000,000+', 'Free', '0', 'Teen', 'Art & Design', 'June 8, 2018', 'Varies with device', '4.2 and up', '']\n",
      "\n",
      "\n",
      "['Pixel Draw - Number Art Coloring Book', 'ART_AND_DESIGN', '4.3', '967', '2.8M', '100,000+', 'Free', '0', 'Everyone', 'Art & Design', 'Creativity', 'June 20, 2018', '1.1', '4.4 and up']\n",
      "\n",
      "\n",
      "Number of rows: 9614\n",
      "Number of columns: 14\n",
      "\n",
      "\n",
      "['389801252', 'Instagram', '113954816', 'USD', '0', '2161558', '1289', '4.5', '4', '10.23', '12+', 'Photo & Video', '37', '0', '29', '1', '']\n",
      "\n",
      "\n",
      "['529479190', 'Clash of Clans', '116476928', 'USD', '0', '2130805', '579', '4.5', '4.5', '9.24.12', '9+', 'Games', '38', '5', '18', '1', '']\n",
      "\n",
      "\n",
      "['420009108', 'Temple Run', '65921024', 'USD', '0', '1724546', '3842', '4.5', '4', '1.6.2', '9+', 'Games', '40', '5', '1', '1', '']\n",
      "\n",
      "\n",
      "Number of rows: 7197\n",
      "Number of columns: 17\n"
     ]
    }
   ],
   "source": [
    "android_English = []\n",
    "ios_English = []\n",
    "\n",
    "for app in android_clean:\n",
    "    name = app[0]\n",
    "    if English(name):\n",
    "        android_English.append(app)\n",
    "\n",
    "for app in ios:\n",
    "    name = app[0]\n",
    "    if English(name):\n",
    "        ios_English.append(app)\n",
    "        \n",
    "explore_data(android_English, 1, 4, True)\n",
    "print('\\n')\n",
    "explore_data(ios_English, 1, 4, True)"
   ]
  },
  {
   "cell_type": "markdown",
   "metadata": {},
   "source": [
    "Now, after removing duplicated and non-English apps, we have 9614 android apps and 7197 ios apps left"
   ]
  },
  {
   "cell_type": "markdown",
   "metadata": {},
   "source": [
    "As we mentioned in the introduction, we only interested in apps that are free to download and install, and our main source of revenue consists of in-app ads. The last thing we need to do for the [data cleaning](https://www.sisense.com/glossary/data-cleaning/) process, is isolating the free apps.\n",
    "\n",
    "\n",
    "### Isolating Non-free Apps\n",
    "\n",
    "Our data sets contain both free and non-free apps; we'll need to isolate only the free apps for our analysis. After we isolate the free apps, we will start analyzing the data"
   ]
  },
  {
   "cell_type": "code",
   "execution_count": 20,
   "metadata": {},
   "outputs": [
    {
     "name": "stdout",
     "output_type": "stream",
     "text": [
      "8864\n",
      "\n",
      "\n",
      "4056\n"
     ]
    }
   ],
   "source": [
    "android_cleaned = []\n",
    "ios_cleaned = []\n",
    "\n",
    "for app in android_English:\n",
    "    price = app[7]\n",
    "    if price == '0':\n",
    "        android_cleaned.append(app)\n",
    "        \n",
    "for app in ios_English:\n",
    "    price = app[4]\n",
    "    if price == '0':\n",
    "        ios_cleaned.append(app)\n",
    "        \n",
    "        \n",
    "print(len(android_cleaned))\n",
    "print('\\n')\n",
    "print(len(ios_cleaned))"
   ]
  },
  {
   "cell_type": "markdown",
   "metadata": {},
   "source": [
    "We are done with the data cleaning process. The remaining apps are 8864 android apps and 4056 ios apps. Now we can start analyzing the data"
   ]
  },
  {
   "cell_type": "markdown",
   "metadata": {},
   "source": [
    "### Most Popular Apps By Genre \n",
    "\n",
    "Our revenure is based on the number of people using our apps. For that reason, We want to determine what kinds of apps attract more users.\n",
    "\n",
    "We'll need to build a frequency table for the prime_genre column of the App Store data set, and for the Genres and Category columns of the Google Play data set.need to build frequency tables for a few columns in our data sets.\n",
    "\n",
    "We'll build two functions we can use to analyze the frequency tables:\n",
    "- One function to generate frequency tables that show percentages\n",
    "- Another function we can use to display the percentages in a descending order\n"
   ]
  },
  {
   "cell_type": "code",
   "execution_count": 21,
   "metadata": {},
   "outputs": [],
   "source": [
    "def freq_table(dataset, index):\n",
    "    table = {}\n",
    "    total = 0\n",
    "    for row in dataset:\n",
    "        total += 1\n",
    "        value = row[index]\n",
    "        if value in table:\n",
    "            table[value] += 1\n",
    "        else:\n",
    "            table[value] = 1\n",
    "    t_percentages = {}\n",
    "    for key in table:\n",
    "        percentage = (table[key]/total)*100\n",
    "        t_percentages[key] = percentage\n",
    "    return t_percentages\n",
    "\n",
    "def display_table(dataset, index):\n",
    "    table = freq_table(dataset, index)\n",
    "    table_display = []\n",
    "    for key in table:\n",
    "        key_val_as_tuple = (table[key], key)\n",
    "        table_display.append(key_val_as_tuple)\n",
    "\n",
    "    table_sorted = sorted(table_display, reverse = True)\n",
    "    for entry in table_sorted:\n",
    "        print(entry[1], ':', entry[0])"
   ]
  },
  {
   "cell_type": "markdown",
   "metadata": {},
   "source": [
    "Now we are going to analyze the frequency table that we have generated for the 'prime_genre' column of the App Store dataset. "
   ]
  },
  {
   "cell_type": "code",
   "execution_count": 22,
   "metadata": {},
   "outputs": [
    {
     "name": "stdout",
     "output_type": "stream",
     "text": [
      "Games : 55.64595660749507\n",
      "Entertainment : 8.234714003944774\n",
      "Photo & Video : 4.117357001972387\n",
      "Social Networking : 3.5256410256410255\n",
      "Education : 3.2544378698224854\n",
      "Shopping : 2.983234714003945\n",
      "Utilities : 2.687376725838264\n",
      "Lifestyle : 2.3175542406311638\n",
      "Finance : 2.0710059171597637\n",
      "Sports : 1.947731755424063\n",
      "Health & Fitness : 1.8737672583826428\n",
      "Music : 1.6518737672583828\n",
      "Book : 1.6272189349112427\n",
      "Productivity : 1.5285996055226825\n",
      "News : 1.4299802761341223\n",
      "Travel : 1.3806706114398422\n",
      "Food & Drink : 1.0601577909270217\n",
      "Weather : 0.7642998027613412\n",
      "Reference : 0.4930966469428008\n",
      "Navigation : 0.4930966469428008\n",
      "Business : 0.4930966469428008\n",
      "Catalogs : 0.22189349112426035\n",
      "Medical : 0.19723865877712032\n"
     ]
    }
   ],
   "source": [
    "display_table(ios_cleaned, -6)"
   ]
  },
  {
   "cell_type": "markdown",
   "metadata": {},
   "source": [
    "From the output, we can see that more than (55.64%) of the apps are Games. Followed by the Entertainment apps (8.23%), followed by Photo and Video apps (4.12%), followed by the Social Networking apps (3.53%). \n",
    "\n",
    "This is surprising! The data is telling us that most of the Apple Store English and free apps were designed for fun. For example, games, entertainment, photos and videos. Only 3.25% of the apps were designed for education. And the apps that were designed for practical purposes are very rare. \n",
    "\n",
    "\n",
    "The Google Play dataset has two columns which seem to be related. These columns are named Genres and Category.\n",
    "\n",
    "We are going to analyze the Category column first"
   ]
  },
  {
   "cell_type": "code",
   "execution_count": 23,
   "metadata": {},
   "outputs": [
    {
     "name": "stdout",
     "output_type": "stream",
     "text": [
      "FAMILY : 18.907942238267147\n",
      "GAME : 9.724729241877256\n",
      "TOOLS : 8.461191335740072\n",
      "BUSINESS : 4.591606498194946\n",
      "LIFESTYLE : 3.9034296028880866\n",
      "PRODUCTIVITY : 3.892148014440433\n",
      "FINANCE : 3.7003610108303246\n",
      "MEDICAL : 3.531137184115524\n",
      "SPORTS : 3.395758122743682\n",
      "PERSONALIZATION : 3.3167870036101084\n",
      "COMMUNICATION : 3.2378158844765346\n",
      "HEALTH_AND_FITNESS : 3.0798736462093865\n",
      "PHOTOGRAPHY : 2.944494584837545\n",
      "NEWS_AND_MAGAZINES : 2.7978339350180503\n",
      "SOCIAL : 2.6624548736462095\n",
      "TRAVEL_AND_LOCAL : 2.33528880866426\n",
      "SHOPPING : 2.2450361010830324\n",
      "BOOKS_AND_REFERENCE : 2.1435018050541514\n",
      "DATING : 1.861462093862816\n",
      "VIDEO_PLAYERS : 1.7937725631768955\n",
      "MAPS_AND_NAVIGATION : 1.3989169675090252\n",
      "FOOD_AND_DRINK : 1.2409747292418771\n",
      "EDUCATION : 1.1620036101083033\n",
      "ENTERTAINMENT : 0.9589350180505415\n",
      "LIBRARIES_AND_DEMO : 0.9363718411552346\n",
      "AUTO_AND_VEHICLES : 0.9250902527075812\n",
      "HOUSE_AND_HOME : 0.8235559566787004\n",
      "WEATHER : 0.8009927797833934\n",
      "EVENTS : 0.7107400722021661\n",
      "PARENTING : 0.6543321299638989\n",
      "ART_AND_DESIGN : 0.6430505415162455\n",
      "COMICS : 0.6204873646209386\n",
      "BEAUTY : 0.5979241877256317\n"
     ]
    }
   ],
   "source": [
    "display_table(android_cleaned, 1)"
   ]
  },
  {
   "cell_type": "markdown",
   "metadata": {},
   "source": [
    "now lets analyze the Genres column"
   ]
  },
  {
   "cell_type": "code",
   "execution_count": 24,
   "metadata": {},
   "outputs": [
    {
     "name": "stdout",
     "output_type": "stream",
     "text": [
      "Tools : 8.461191335740072\n",
      "Entertainment : 6.419223826714801\n",
      "Education : 5.88898916967509\n",
      "Business : 4.591606498194946\n",
      "Lifestyle : 3.91471119133574\n",
      "Productivity : 3.892148014440433\n",
      "Finance : 3.7003610108303246\n",
      "Medical : 3.531137184115524\n",
      "Sports : 3.48601083032491\n",
      "Personalization : 3.3167870036101084\n",
      "Communication : 3.2490974729241873\n",
      "Action : 3.203971119133574\n",
      "Health & Fitness : 3.1024368231046933\n",
      "Photography : 2.944494584837545\n",
      "News & Magazines : 2.7978339350180503\n",
      "Social : 2.6624548736462095\n",
      "Casual : 2.36913357400722\n",
      "Travel & Local : 2.33528880866426\n",
      "Shopping : 2.2450361010830324\n",
      "Simulation : 2.154783393501805\n",
      "Books & Reference : 2.154783393501805\n",
      "Arcade : 1.9855595667870036\n",
      "Dating : 1.861462093862816\n",
      "Video Players & Editors : 1.8050541516245486\n",
      "Maps & Navigation : 1.3989169675090252\n",
      "Puzzle : 1.3650722021660648\n",
      "Food & Drink : 1.2409747292418771\n",
      "Racing : 1.1732851985559567\n",
      "Role Playing : 1.026624548736462\n",
      "Educational : 0.9927797833935018\n",
      "Strategy : 0.947653429602888\n",
      "Libraries & Demo : 0.9363718411552346\n",
      "Auto & Vehicles : 0.9250902527075812\n",
      "House & Home : 0.8235559566787004\n",
      "Weather : 0.8009927797833934\n",
      "Adventure : 0.7220216606498195\n",
      "Events : 0.7107400722021661\n",
      "Art & Design : 0.6881768953068592\n",
      "Parenting : 0.6543321299638989\n",
      "Comics : 0.6204873646209386\n",
      "Beauty : 0.5979241877256317\n",
      "Board : 0.48510830324909754\n",
      "Card : 0.4625451263537906\n",
      "Trivia : 0.42870036101083037\n",
      "Casino : 0.42870036101083037\n",
      "Word : 0.2594765342960289\n",
      "Music : 0.22563176895306858\n",
      "Music & Audio : 0.01128158844765343\n"
     ]
    }
   ],
   "source": [
    "display_table(android_cleaned, 9)"
   ]
  },
  {
   "cell_type": "markdown",
   "metadata": {},
   "source": [
    "# Conclusion \n",
    "\n",
    "The difference between the Category and Genres columns is not clear. But we can notice that the Genres column has more categories and more data. \n",
    "\n",
    "From the output, we can notice that Google Play has a good number of apps that were designed for practical purposes than what the Apple Store has. Google play has a balance between apps that were designed for fun and apps for practical purposes."
   ]
  },
  {
   "cell_type": "code",
   "execution_count": null,
   "metadata": {},
   "outputs": [],
   "source": []
  }
 ],
 "metadata": {
  "kernelspec": {
   "display_name": "Python 3",
   "language": "python",
   "name": "python3"
  },
  "language_info": {
   "codemirror_mode": {
    "name": "ipython",
    "version": 3
   },
   "file_extension": ".py",
   "mimetype": "text/x-python",
   "name": "python",
   "nbconvert_exporter": "python",
   "pygments_lexer": "ipython3",
   "version": "3.6.8"
  }
 },
 "nbformat": 4,
 "nbformat_minor": 2
}
